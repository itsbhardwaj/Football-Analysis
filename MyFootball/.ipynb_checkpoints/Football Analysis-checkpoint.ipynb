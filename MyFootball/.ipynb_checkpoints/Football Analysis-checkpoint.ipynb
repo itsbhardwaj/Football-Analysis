{
 "cells": [
  {
   "cell_type": "markdown",
   "metadata": {},
   "source": [
    "# Football Analysis\n",
    "\n",
    "Notes for Football Data\n",
    "\n",
    "All data is in csv format, ready for use within standard spreadsheet applications. Please note that some abbreviations are no longer in use (in particular odds from specific bookmakers no longer used) and refer to data collected in earlier seasons. For a current list of what bookmakers are included in the dataset please visit http://www.football-data.co.uk/matches.php\n",
    "\n",
    "Key to results data:\n",
    "\n",
    "Div = League Division\n",
    "Date = Match Date (dd/mm/yy)\n",
    "HomeTeam = Home Team\n",
    "AwayTeam = Away Team\n",
    "FTHG and HG = Full Time Home Team Goals\n",
    "FTAG and AG = Full Time Away Team Goals\n",
    "FTR and Res = Full Time Result (H=Home Win, D=Draw, A=Away Win)\n",
    "HTHG = Half Time Home Team Goals\n",
    "HTAG = Half Time Away Team Goals\n",
    "HTR = Half Time Result (H=Home Win, D=Draw, A=Away Win)\n",
    "\n",
    "Match Statistics (where available)\n",
    "Attendance = Crowd Attendance\n",
    "Referee = Match Referee\n",
    "HS = Home Team Shots\n",
    "AS = Away Team Shots\n",
    "HST = Home Team Shots on Target\n",
    "AST = Away Team Shots on Target\n",
    "HHW = Home Team Hit Woodwork\n",
    "AHW = Away Team Hit Woodwork\n",
    "HC = Home Team Corners\n",
    "AC = Away Team Corners\n",
    "HF = Home Team Fouls Committed\n",
    "AF = Away Team Fouls Committed\n",
    "HFKC = Home Team Free Kicks Conceded\n",
    "AFKC = Away Team Free Kicks Conceded\n",
    "HO = Home Team Offsides\n",
    "AO = Away Team Offsides\n",
    "HY = Home Team Yellow Cards\n",
    "AY = Away Team Yellow Cards\n",
    "HR = Home Team Red Cards\n",
    "AR = Away Team Red Cards\n",
    "HBP = Home Team Bookings Points (10 = yellow, 25 = red)\n",
    "ABP = Away Team Bookings Points (10 = yellow, 25 = red)\n",
    "\n",
    "Note that Free Kicks Conceeded includes fouls, offsides and any other offense commmitted and will always be equal to or higher than the number of fouls. Fouls make up the vast majority of Free Kicks Conceded. Free Kicks Conceded are shown when specific data on Fouls are not available (France 2nd, Belgium 1st and Greece 1st divisions).\n",
    "\n",
    "Note also that English and Scottish yellow cards do not include the initial yellow card when a second is shown to a player converting it into a red, but this is included as a yellow (plus red) for European games.\n",
    "\n",
    "\n",
    "Key to 1X2 (match) betting odds data:\n",
    "\n",
    "B365H = Bet365 home win odds\n",
    "B365D = Bet365 draw odds\n",
    "B365A = Bet365 away win odds\n",
    "BSH = Blue Square home win odds\n",
    "BSD = Blue Square draw odds\n",
    "BSA = Blue Square away win odds\n",
    "BWH = Bet&Win home win odds\n",
    "BWD = Bet&Win draw odds\n",
    "BWA = Bet&Win away win odds\n",
    "GBH = Gamebookers home win odds\n",
    "GBD = Gamebookers draw odds\n",
    "GBA = Gamebookers away win odds\n",
    "IWH = Interwetten home win odds\n",
    "IWD = Interwetten draw odds\n",
    "IWA = Interwetten away win odds\n",
    "LBH = Ladbrokes home win odds\n",
    "LBD = Ladbrokes draw odds\n",
    "LBA = Ladbrokes away win odds\n",
    "PSH and PH = Pinnacle home win odds\n",
    "PSD and PD = Pinnacle draw odds\n",
    "PSA and PA = Pinnacle away win odds\n",
    "SOH = Sporting Odds home win odds\n",
    "SOD = Sporting Odds draw odds\n",
    "SOA = Sporting Odds away win odds\n",
    "SBH = Sportingbet home win odds\n",
    "SBD = Sportingbet draw odds\n",
    "SBA = Sportingbet away win odds\n",
    "SJH = Stan James home win odds\n",
    "SJD = Stan James draw odds\n",
    "SJA = Stan James away win odds\n",
    "SYH = Stanleybet home win odds\n",
    "SYD = Stanleybet draw odds\n",
    "SYA = Stanleybet away win odds\n",
    "VCH = VC Bet home win odds\n",
    "VCD = VC Bet draw odds\n",
    "VCA = VC Bet away win odds\n",
    "WHH = William Hill home win odds\n",
    "WHD = William Hill draw odds\n",
    "WHA = William Hill away win odds\n",
    "\n",
    "Bb1X2 = Number of BetBrain bookmakers used to calculate match odds averages and maximums\n",
    "BbMxH = Betbrain maximum home win odds\n",
    "BbAvH = Betbrain average home win odds\n",
    "BbMxD = Betbrain maximum draw odds\n",
    "BbAvD = Betbrain average draw win odds\n",
    "BbMxA = Betbrain maximum away win odds\n",
    "BbAvA = Betbrain average away win odds\n",
    "\n",
    "MaxH = Oddsportal maximum home win odds\n",
    "MaxD = Oddsportal maximum draw win odds\n",
    "MaxA = Oddsportal maximum away win odds\n",
    "AvgH = Oddsportal average home win odds\n",
    "AvgD = Oddsportal average draw win odds\n",
    "AvgA = Oddsportal average away win odds\n",
    "\n",
    "\n",
    "\n",
    "Key to total goals betting odds:\n",
    "\n",
    "BbOU = Number of BetBrain bookmakers used to calculate over/under 2.5 goals (total goals) averages and maximums\n",
    "BbMx>2.5 = Betbrain maximum over 2.5 goals\n",
    "BbAv>2.5 = Betbrain average over 2.5 goals\n",
    "BbMx<2.5 = Betbrain maximum under 2.5 goals\n",
    "BbAv<2.5 = Betbrain average under 2.5 goals\n",
    "\n",
    "GB>2.5 = Gamebookers over 2.5 goals\n",
    "GB<2.5 = Gamebookers under 2.5 goals\n",
    "B365>2.5 = Bet365 over 2.5 goals\n",
    "B365<2.5 = Bet365 under 2.5 goals\n",
    "P>2.5 = Pinnacle over 2.5 goals\n",
    "P<2.5 = Pinnacle under 2.5 goals\n",
    "Max>2.5 = Oddsportal maximum over 2.5 goals\n",
    "Max<2.5 = Oddsportal maximum under 2.5 goals\n",
    "Avg>2.5 = Oddsportal average over 2.5 goals\n",
    "Avg<2.5 = Oddsportal average under 2.5 goals\n",
    "\n",
    "\n",
    "\n",
    "Key to Asian handicap betting odds:\n",
    "\n",
    "BbAH = Number of BetBrain bookmakers used to Asian handicap averages and maximums\n",
    "BbAHh = Betbrain size of handicap (home team)\n",
    "AHh = Oddsportal size of handicap (home team) (since 2019/2020)\n",
    "BbMxAHH = Betbrain maximum Asian handicap home team odds\n",
    "BbAvAHH = Betbrain average Asian handicap home team odds\n",
    "BbMxAHA = Betbrain maximum Asian handicap away team odds\n",
    "BbAvAHA = Betbrain average Asian handicap away team odds\n",
    "\n",
    "GBAHH = Gamebookers Asian handicap home team odds\n",
    "GBAHA = Gamebookers Asian handicap away team odds\n",
    "GBAH = Gamebookers size of handicap (home team)\n",
    "LBAHH = Ladbrokes Asian handicap home team odds\n",
    "LBAHA = Ladbrokes Asian handicap away team odds\n",
    "LBAH = Ladbrokes size of handicap (home team)\n",
    "B365AHH = Bet365 Asian handicap home team odds\n",
    "B365AHA = Bet365 Asian handicap away team odds\n",
    "B365AH = Bet365 size of handicap (home team)\n",
    "PAHH = Pinnacle Asian handicap home team odds\n",
    "PAHA = Pinnacle Asian handicap away team odds\n",
    "MaxAHH = Oddsportal maximum Asian handicap home team odds\n",
    "MaxAHA = Oddsportal maximum Asian handicap away team odds\t\n",
    "AvgAHH = Oddsportal average Asian handicap home team odds\n",
    "AvgAHA = Oddsportal average Asian handicap away team odds\n",
    "\n",
    "\n",
    "\n",
    "Closing odds (last odds before match starts)\n",
    "\n",
    "As above but with an additional \"C\" character following the bookmaker abbreviation/Max/Avg\n",
    "\n",
    "Football-Data would like to acknowledge the following sources which have been utilised in the compilation of Football-Data's results and odds files.\n",
    "\n",
    "\n",
    "Current results (full time, half time)\n",
    "Xcores - http://www.xcores .com\n",
    "\n",
    "Match statistics\n",
    "Sportinglife, ESPN Soccer, Bundesliga.de, Gazzetta.it and Football.fr\n",
    "\n",
    "Bookmakers betting odds\n",
    "Betbrain - http://www.betbrain.com\n",
    "Oddsportal - http://www.oddsportal.com\n",
    "Individual bookmakers\n",
    "\n",
    "Betting odds for weekend games are collected Friday afternoons, and on Tuesday afternoons for midweek games.\n",
    "\n",
    "Additional match statistics (corners, shots, bookings, referee etc.) for the 2000/01 and 2001/02 seasons for the English, Scottish and German leagues were provided by Sports.com (now under new ownership and no longer available).\n",
    "\n"
   ]
  },
  {
   "cell_type": "code",
   "execution_count": 1,
   "metadata": {},
   "outputs": [],
   "source": [
    "import numpy as np\n",
    "import pandas as pd\n",
    "import matplotlib.pyplot as plt\n",
    "import seaborn as sns\n",
    "from datetime import datetime as dt\n",
    "import itertools"
   ]
  },
  {
   "cell_type": "code",
   "execution_count": 2,
   "metadata": {},
   "outputs": [],
   "source": [
    "#Read data \n",
    "loc = \"G:\\Projects\\Football-Analysis\\MyFootball\\Dataset\"\n",
    "rawData1 = pd.read_csv(loc + '\\\\2017-18.csv')\n",
    "rawData2 = pd.read_csv(loc + '\\\\2018-19.csv')"
   ]
  },
  {
   "cell_type": "markdown",
   "metadata": {},
   "source": [
    "Cleaning & Sorting Data:"
   ]
  },
  {
   "cell_type": "code",
   "execution_count": 3,
   "metadata": {},
   "outputs": [],
   "source": [
    "#Parse data as time\n",
    "\n",
    "def parse_date(date):\n",
    "    if(date==''):\n",
    "        return None\n",
    "    else:\n",
    "        return dt.strptime(date, '%d/%m/%Y').date()\n",
    "    \n",
    "rawData1.Date=rawData1.Date.apply(parse_date)\n",
    "rawData2.Date=rawData2.Date.apply(parse_date)\n",
    "\n",
    "#Getting all the required stats data form the table and creating another table\n",
    "\n",
    "columnsReq=['Date','HomeTeam','AwayTeam','FTHG','FTAG','FTR','HS','AS','HST','AST','HF','AF','HC','AC','HY','AY','HR','AR']\n",
    "playingStats1=rawData1[columnsReq]\n",
    "playingStats2=rawData2[columnsReq]"
   ]
  },
  {
   "cell_type": "code",
   "execution_count": 4,
   "metadata": {},
   "outputs": [
    {
     "data": {
      "text/html": [
       "<div>\n",
       "<style scoped>\n",
       "    .dataframe tbody tr th:only-of-type {\n",
       "        vertical-align: middle;\n",
       "    }\n",
       "\n",
       "    .dataframe tbody tr th {\n",
       "        vertical-align: top;\n",
       "    }\n",
       "\n",
       "    .dataframe thead th {\n",
       "        text-align: right;\n",
       "    }\n",
       "</style>\n",
       "<table border=\"1\" class=\"dataframe\">\n",
       "  <thead>\n",
       "    <tr style=\"text-align: right;\">\n",
       "      <th></th>\n",
       "      <th>Date</th>\n",
       "      <th>HomeTeam</th>\n",
       "      <th>AwayTeam</th>\n",
       "      <th>FTHG</th>\n",
       "      <th>FTAG</th>\n",
       "      <th>FTR</th>\n",
       "      <th>HS</th>\n",
       "      <th>AS</th>\n",
       "      <th>HST</th>\n",
       "      <th>AST</th>\n",
       "      <th>HF</th>\n",
       "      <th>AF</th>\n",
       "      <th>HC</th>\n",
       "      <th>AC</th>\n",
       "      <th>HY</th>\n",
       "      <th>AY</th>\n",
       "      <th>HR</th>\n",
       "      <th>AR</th>\n",
       "    </tr>\n",
       "  </thead>\n",
       "  <tbody>\n",
       "    <tr>\n",
       "      <th>0</th>\n",
       "      <td>2017-08-11</td>\n",
       "      <td>Arsenal</td>\n",
       "      <td>Leicester</td>\n",
       "      <td>4</td>\n",
       "      <td>3</td>\n",
       "      <td>H</td>\n",
       "      <td>27</td>\n",
       "      <td>6</td>\n",
       "      <td>10</td>\n",
       "      <td>3</td>\n",
       "      <td>9</td>\n",
       "      <td>12</td>\n",
       "      <td>9</td>\n",
       "      <td>4</td>\n",
       "      <td>0</td>\n",
       "      <td>1</td>\n",
       "      <td>0</td>\n",
       "      <td>0</td>\n",
       "    </tr>\n",
       "    <tr>\n",
       "      <th>1</th>\n",
       "      <td>2017-08-12</td>\n",
       "      <td>Brighton</td>\n",
       "      <td>Man City</td>\n",
       "      <td>0</td>\n",
       "      <td>2</td>\n",
       "      <td>A</td>\n",
       "      <td>6</td>\n",
       "      <td>14</td>\n",
       "      <td>2</td>\n",
       "      <td>4</td>\n",
       "      <td>6</td>\n",
       "      <td>9</td>\n",
       "      <td>3</td>\n",
       "      <td>10</td>\n",
       "      <td>0</td>\n",
       "      <td>2</td>\n",
       "      <td>0</td>\n",
       "      <td>0</td>\n",
       "    </tr>\n",
       "    <tr>\n",
       "      <th>2</th>\n",
       "      <td>2017-08-12</td>\n",
       "      <td>Chelsea</td>\n",
       "      <td>Burnley</td>\n",
       "      <td>2</td>\n",
       "      <td>3</td>\n",
       "      <td>A</td>\n",
       "      <td>19</td>\n",
       "      <td>10</td>\n",
       "      <td>6</td>\n",
       "      <td>5</td>\n",
       "      <td>16</td>\n",
       "      <td>11</td>\n",
       "      <td>8</td>\n",
       "      <td>5</td>\n",
       "      <td>3</td>\n",
       "      <td>3</td>\n",
       "      <td>2</td>\n",
       "      <td>0</td>\n",
       "    </tr>\n",
       "    <tr>\n",
       "      <th>3</th>\n",
       "      <td>2017-08-12</td>\n",
       "      <td>Crystal Palace</td>\n",
       "      <td>Huddersfield</td>\n",
       "      <td>0</td>\n",
       "      <td>3</td>\n",
       "      <td>A</td>\n",
       "      <td>14</td>\n",
       "      <td>8</td>\n",
       "      <td>4</td>\n",
       "      <td>6</td>\n",
       "      <td>7</td>\n",
       "      <td>19</td>\n",
       "      <td>12</td>\n",
       "      <td>9</td>\n",
       "      <td>1</td>\n",
       "      <td>3</td>\n",
       "      <td>0</td>\n",
       "      <td>0</td>\n",
       "    </tr>\n",
       "    <tr>\n",
       "      <th>4</th>\n",
       "      <td>2017-08-12</td>\n",
       "      <td>Everton</td>\n",
       "      <td>Stoke</td>\n",
       "      <td>1</td>\n",
       "      <td>0</td>\n",
       "      <td>H</td>\n",
       "      <td>9</td>\n",
       "      <td>9</td>\n",
       "      <td>4</td>\n",
       "      <td>1</td>\n",
       "      <td>13</td>\n",
       "      <td>10</td>\n",
       "      <td>6</td>\n",
       "      <td>7</td>\n",
       "      <td>1</td>\n",
       "      <td>1</td>\n",
       "      <td>0</td>\n",
       "      <td>0</td>\n",
       "    </tr>\n",
       "  </tbody>\n",
       "</table>\n",
       "</div>"
      ],
      "text/plain": [
       "         Date        HomeTeam      AwayTeam  FTHG  FTAG FTR  HS  AS  HST  AST  \\\n",
       "0  2017-08-11         Arsenal     Leicester     4     3   H  27   6   10    3   \n",
       "1  2017-08-12        Brighton      Man City     0     2   A   6  14    2    4   \n",
       "2  2017-08-12         Chelsea       Burnley     2     3   A  19  10    6    5   \n",
       "3  2017-08-12  Crystal Palace  Huddersfield     0     3   A  14   8    4    6   \n",
       "4  2017-08-12         Everton         Stoke     1     0   H   9   9    4    1   \n",
       "\n",
       "   HF  AF  HC  AC  HY  AY  HR  AR  \n",
       "0   9  12   9   4   0   1   0   0  \n",
       "1   6   9   3  10   0   2   0   0  \n",
       "2  16  11   8   5   3   3   2   0  \n",
       "3   7  19  12   9   1   3   0   0  \n",
       "4  13  10   6   7   1   1   0   0  "
      ]
     },
     "execution_count": 4,
     "metadata": {},
     "output_type": "execute_result"
    }
   ],
   "source": [
    "playingStats1.head()"
   ]
  },
  {
   "cell_type": "code",
   "execution_count": 5,
   "metadata": {},
   "outputs": [],
   "source": [
    "#concatinating playing Stats\n",
    "playingStats=pd.concat([playingStats1,playingStats2])"
   ]
  },
  {
   "cell_type": "markdown",
   "metadata": {},
   "source": [
    "# Chances of win/loss/tie for both Home and Away sides"
   ]
  },
  {
   "cell_type": "markdown",
   "metadata": {},
   "source": [
    "### (a) How many matches have been won/drawn by home teams as well as away team in different seasons?"
   ]
  },
  {
   "cell_type": "code",
   "execution_count": 6,
   "metadata": {},
   "outputs": [
    {
     "data": {
      "text/plain": [
       "Text(0.5, 0, 'Season')"
      ]
     },
     "execution_count": 6,
     "metadata": {},
     "output_type": "execute_result"
    },
    {
     "data": {
      "image/png": "[encoded data removed]",
      "text/plain": [
       "<Figure size 1152x540 with 1 Axes>"
      ]
     },
     "metadata": {
      "needs_background": "light"
     },
     "output_type": "display_data"
    },
    {
     "data": {
      "image/png": "[encoded data removed]",
      "text/plain": [
       "<Figure size 1152x540 with 1 Axes>"
      ]
     },
     "metadata": {
      "needs_background": "light"
     },
     "output_type": "display_data"
    }
   ],
   "source": [
    "def getResultStats(playingStat,year):\n",
    "    return pd.DataFrame(data=[len(playingStat[playingStat.FTR=='H']),\n",
    "                             len(playingStat[playingStat.FTR=='A']),\n",
    "                             len(playingStat[playingStat.FTR=='D'])],\n",
    "                        index = ['Home Wins', 'Away Wins', 'Draws'],\n",
    "                        columns =[year]\n",
    "                       ).T\n",
    "resultStats1=getResultStats(playingStats1,'2017-18')\n",
    "resultStats2=getResultStats(playingStats2,'2018-19')\n",
    "resultStatsAggregate=getResultStats(playingStats,'Overall')\n",
    "\n",
    "resultStats=pd.concat([resultStats1,resultStats2])\n",
    "\n",
    "#Plotting results\n",
    "ax=resultStats.plot(kind='bar', color = ['steelblue','sandybrown', 'turquoise'], figsize = [16,7.5], \n",
    "                       title='Result Statistics for Different Years',legend=True)\n",
    "plt.xticks(rotation=0) #for rotating x labels(here, the year label)\n",
    "ax.set_ylabel('Frequency', size=12)\n",
    "ax.set_xlabel('Season', size=12)\n",
    "\n",
    "#Plotting agg result dataframe\n",
    "ax1 = resultStatsAggregate.T.plot(kind='bar', color = ['steelblue','sandybrown', 'turquoise'], figsize = [16,7.5], \n",
    "                       title='Aggregate Result Statistics', legend = False)\n",
    "plt.xticks(rotation=0)\n",
    "ax1.set_ylabel('Frequency', size=12)\n",
    "ax1.set_xlabel('Season', size=12)"
   ]
  },
  {
   "cell_type": "code",
   "execution_count": 12,
   "metadata": {},
   "outputs": [
    {
     "data": {
      "text/html": [
       "<div>\n",
       "<style scoped>\n",
       "    .dataframe tbody tr th:only-of-type {\n",
       "        vertical-align: middle;\n",
       "    }\n",
       "\n",
       "    .dataframe tbody tr th {\n",
       "        vertical-align: top;\n",
       "    }\n",
       "\n",
       "    .dataframe thead th {\n",
       "        text-align: right;\n",
       "    }\n",
       "</style>\n",
       "<table border=\"1\" class=\"dataframe\">\n",
       "  <thead>\n",
       "    <tr style=\"text-align: right;\">\n",
       "      <th></th>\n",
       "      <th>2017-18</th>\n",
       "      <th>2018-19</th>\n",
       "    </tr>\n",
       "  </thead>\n",
       "  <tbody>\n",
       "    <tr>\n",
       "      <th>Home Wins</th>\n",
       "      <td>173</td>\n",
       "      <td>181</td>\n",
       "    </tr>\n",
       "    <tr>\n",
       "      <th>Away Wins</th>\n",
       "      <td>108</td>\n",
       "      <td>128</td>\n",
       "    </tr>\n",
       "    <tr>\n",
       "      <th>Draws</th>\n",
       "      <td>99</td>\n",
       "      <td>71</td>\n",
       "    </tr>\n",
       "  </tbody>\n",
       "</table>\n",
       "</div>"
      ],
      "text/plain": [
       "           2017-18  2018-19\n",
       "Home Wins      173      181\n",
       "Away Wins      108      128\n",
       "Draws           99       71"
      ]
     },
     "execution_count": 12,
     "metadata": {},
     "output_type": "execute_result"
    }
   ],
   "source": [
    "resultStats.T"
   ]
  },
  {
   "cell_type": "code",
   "execution_count": 13,
   "metadata": {},
   "outputs": [
    {
     "data": {
      "text/html": [
       "<div>\n",
       "<style scoped>\n",
       "    .dataframe tbody tr th:only-of-type {\n",
       "        vertical-align: middle;\n",
       "    }\n",
       "\n",
       "    .dataframe tbody tr th {\n",
       "        vertical-align: top;\n",
       "    }\n",
       "\n",
       "    .dataframe thead th {\n",
       "        text-align: right;\n",
       "    }\n",
       "</style>\n",
       "<table border=\"1\" class=\"dataframe\">\n",
       "  <thead>\n",
       "    <tr style=\"text-align: right;\">\n",
       "      <th></th>\n",
       "      <th>Home Wins</th>\n",
       "      <th>Away Wins</th>\n",
       "      <th>Draws</th>\n",
       "    </tr>\n",
       "  </thead>\n",
       "  <tbody>\n",
       "    <tr>\n",
       "      <th>Overall</th>\n",
       "      <td>354</td>\n",
       "      <td>236</td>\n",
       "      <td>170</td>\n",
       "    </tr>\n",
       "  </tbody>\n",
       "</table>\n",
       "</div>"
      ],
      "text/plain": [
       "         Home Wins  Away Wins  Draws\n",
       "Overall        354        236    170"
      ]
     },
     "execution_count": 13,
     "metadata": {},
     "output_type": "execute_result"
    }
   ],
   "source": [
    "resultStatsAggregate"
   ]
  },
  {
   "cell_type": "markdown",
   "metadata": {},
   "source": [
    "### (b) What has been the win percentage for Home teams and Away teams?"
   ]
  },
  {
   "cell_type": "code",
   "execution_count": 14,
   "metadata": {},
   "outputs": [
    {
     "data": {
      "text/html": [
       "<div>\n",
       "<style scoped>\n",
       "    .dataframe tbody tr th:only-of-type {\n",
       "        vertical-align: middle;\n",
       "    }\n",
       "\n",
       "    .dataframe tbody tr th {\n",
       "        vertical-align: top;\n",
       "    }\n",
       "\n",
       "    .dataframe thead th {\n",
       "        text-align: right;\n",
       "    }\n",
       "</style>\n",
       "<table border=\"1\" class=\"dataframe\">\n",
       "  <thead>\n",
       "    <tr style=\"text-align: right;\">\n",
       "      <th></th>\n",
       "      <th>2017-18</th>\n",
       "      <th>2018-19</th>\n",
       "    </tr>\n",
       "  </thead>\n",
       "  <tbody>\n",
       "    <tr>\n",
       "      <th>Home</th>\n",
       "      <td>45.526316</td>\n",
       "      <td>47.631579</td>\n",
       "    </tr>\n",
       "    <tr>\n",
       "      <th>Away</th>\n",
       "      <td>28.421053</td>\n",
       "      <td>33.684211</td>\n",
       "    </tr>\n",
       "    <tr>\n",
       "      <th>Draw</th>\n",
       "      <td>26.052632</td>\n",
       "      <td>18.684211</td>\n",
       "    </tr>\n",
       "  </tbody>\n",
       "</table>\n",
       "</div>"
      ],
      "text/plain": [
       "        2017-18    2018-19\n",
       "Home  45.526316  47.631579\n",
       "Away  28.421053  33.684211\n",
       "Draw  26.052632  18.684211"
      ]
     },
     "execution_count": 14,
     "metadata": {},
     "output_type": "execute_result"
    }
   ],
   "source": [
    "resultProp=resultStats.T\n",
    "for column in resultProp.columns:\n",
    "    resultProp[column] = (resultProp[column] * 100) / 380  #No. of total matches in a year\n",
    "# Renames columns\n",
    "resultProp.rename(index={'Home Wins':'Home', 'Away Wins':'Away', 'Draws':'Draw'}, inplace=True)\n",
    "\n",
    "# Print df\n",
    "resultProp"
   ]
  },
  {
   "cell_type": "code",
   "execution_count": 18,
   "metadata": {},
   "outputs": [
    {
     "data": {
      "text/plain": [
       "([<matplotlib.axis.XTick at 0x2cbbdd6198>,\n",
       "  <matplotlib.axis.XTick at 0x2cbbdd64a8>],\n",
       " <a list of 2 Text xticklabel objects>)"
      ]
     },
     "execution_count": 18,
     "metadata": {},
     "output_type": "execute_result"
    },
    {
     "data": {
      "image/png": "[encoded data removed]",
      "text/plain": [
       "<Figure size 1152x576 with 1 Axes>"
      ]
     },
     "metadata": {
      "needs_background": "light"
     },
     "output_type": "display_data"
    }
   ],
   "source": [
    "# Plots a line plot of the win percentages for different parameters in different seasons.\n",
    "\n",
    "ax = resultProp.T.plot(figsize = [16,8], title = 'Win Percentage for Home team and Away team')\n",
    "ax.margins(y=.75)\n",
    "ax.set_xlabel('Season', size =12)\n",
    "ax.set_ylabel('Win Perentage', size =12)\n",
    "plt.xticks( np.arange(2), ('2017-18', '2018-19') )"
   ]
  },
  {
   "cell_type": "code",
   "execution_count": 19,
   "metadata": {},
   "outputs": [
    {
     "data": {
      "text/html": [
       "<div>\n",
       "<style scoped>\n",
       "    .dataframe tbody tr th:only-of-type {\n",
       "        vertical-align: middle;\n",
       "    }\n",
       "\n",
       "    .dataframe tbody tr th {\n",
       "        vertical-align: top;\n",
       "    }\n",
       "\n",
       "    .dataframe thead th {\n",
       "        text-align: right;\n",
       "    }\n",
       "</style>\n",
       "<table border=\"1\" class=\"dataframe\">\n",
       "  <thead>\n",
       "    <tr style=\"text-align: right;\">\n",
       "      <th></th>\n",
       "      <th>Win Percentage</th>\n",
       "    </tr>\n",
       "  </thead>\n",
       "  <tbody>\n",
       "    <tr>\n",
       "      <th>Home</th>\n",
       "      <td>46.578947</td>\n",
       "    </tr>\n",
       "    <tr>\n",
       "      <th>Away</th>\n",
       "      <td>31.052632</td>\n",
       "    </tr>\n",
       "    <tr>\n",
       "      <th>Draw</th>\n",
       "      <td>22.368421</td>\n",
       "    </tr>\n",
       "  </tbody>\n",
       "</table>\n",
       "</div>"
      ],
      "text/plain": [
       "      Win Percentage\n",
       "Home       46.578947\n",
       "Away       31.052632\n",
       "Draw       22.368421"
      ]
     },
     "execution_count": 19,
     "metadata": {},
     "output_type": "execute_result"
    },
    {
     "data": {
      "image/png": "[encoded data removed]",
      "text/plain": [
       "<Figure size 432x432 with 1 Axes>"
      ]
     },
     "metadata": {},
     "output_type": "display_data"
    }
   ],
   "source": [
    "# Calculating average win percentage for each side:\n",
    "result_avg_prop = pd.DataFrame((resultProp['2017-18'] + resultProp['2018-19']) / 2,columns = ['Win Percentage'])\n",
    "\n",
    "# Plots average win percentage as a pie chart.\n",
    "ax = result_avg_prop.plot(kind='pie', figsize =[6,6],autopct='%.2f', y='Win Percentage', fontsize =20, labels = None,\n",
    "                          legend = True, colors = ['steelblue','sandybrown', 'turquoise'])\n",
    "ax.set_title('Aggregate Win Percentage', size=25)\n",
    "result_avg_prop"
   ]
  },
  {
   "cell_type": "code",
   "execution_count": 21,
   "metadata": {},
   "outputs": [
    {
     "data": {
      "text/html": [
       "<div>\n",
       "<style scoped>\n",
       "    .dataframe tbody tr th:only-of-type {\n",
       "        vertical-align: middle;\n",
       "    }\n",
       "\n",
       "    .dataframe tbody tr th {\n",
       "        vertical-align: top;\n",
       "    }\n",
       "\n",
       "    .dataframe thead th {\n",
       "        text-align: right;\n",
       "    }\n",
       "</style>\n",
       "<table border=\"1\" class=\"dataframe\">\n",
       "  <thead>\n",
       "    <tr style=\"text-align: right;\">\n",
       "      <th></th>\n",
       "      <th>2017-18</th>\n",
       "      <th>2018-19</th>\n",
       "      <th>Standard Deviation</th>\n",
       "    </tr>\n",
       "  </thead>\n",
       "  <tbody>\n",
       "    <tr>\n",
       "      <th>Home</th>\n",
       "      <td>-1.052632</td>\n",
       "      <td>1.052632</td>\n",
       "      <td>1.488646</td>\n",
       "    </tr>\n",
       "    <tr>\n",
       "      <th>Away</th>\n",
       "      <td>-2.631579</td>\n",
       "      <td>2.631579</td>\n",
       "      <td>3.721615</td>\n",
       "    </tr>\n",
       "    <tr>\n",
       "      <th>Draw</th>\n",
       "      <td>3.684211</td>\n",
       "      <td>-3.684211</td>\n",
       "      <td>5.210260</td>\n",
       "    </tr>\n",
       "  </tbody>\n",
       "</table>\n",
       "</div>"
      ],
      "text/plain": [
       "       2017-18   2018-19  Standard Deviation\n",
       "Home -1.052632  1.052632            1.488646\n",
       "Away -2.631579  2.631579            3.721615\n",
       "Draw  3.684211 -3.684211            5.210260"
      ]
     },
     "execution_count": 21,
     "metadata": {},
     "output_type": "execute_result"
    }
   ],
   "source": [
    "# Calculating the deviation for each season\n",
    "avg_home = result_avg_prop['Win Percentage'].loc['Home']\n",
    "avg_away = result_avg_prop['Win Percentage'].loc['Away']\n",
    "avg_draw = result_avg_prop['Win Percentage'].loc['Draw']\n",
    "\n",
    "result_dev = pd.concat([pd.DataFrame(resultProp.loc['Home'] - avg_home).T,\n",
    "                        pd.DataFrame(resultProp.loc['Away'] - avg_away).T,\n",
    "                        pd.DataFrame(resultProp.loc['Draw'] - avg_draw).T])\n",
    "\n",
    "\n",
    "# Calculates the standard deviation \n",
    "result_dev['Standard Deviation'] = result_dev.std(axis = 1)\n",
    "result_dev"
   ]
  },
  {
   "cell_type": "code",
   "execution_count": 27,
   "metadata": {},
   "outputs": [
    {
     "data": {
      "text/html": [
       "<div>\n",
       "<style scoped>\n",
       "    .dataframe tbody tr th:only-of-type {\n",
       "        vertical-align: middle;\n",
       "    }\n",
       "\n",
       "    .dataframe tbody tr th {\n",
       "        vertical-align: top;\n",
       "    }\n",
       "\n",
       "    .dataframe thead th {\n",
       "        text-align: right;\n",
       "    }\n",
       "</style>\n",
       "<table border=\"1\" class=\"dataframe\">\n",
       "  <thead>\n",
       "    <tr style=\"text-align: right;\">\n",
       "      <th></th>\n",
       "      <th>2017-18</th>\n",
       "      <th>2018-19</th>\n",
       "    </tr>\n",
       "  </thead>\n",
       "  <tbody>\n",
       "    <tr>\n",
       "      <th>Home</th>\n",
       "      <td>45.526316</td>\n",
       "      <td>47.631579</td>\n",
       "    </tr>\n",
       "  </tbody>\n",
       "</table>\n",
       "</div>"
      ],
      "text/plain": [
       "        2017-18    2018-19\n",
       "Home  45.526316  47.631579"
      ]
     },
     "execution_count": 27,
     "metadata": {},
     "output_type": "execute_result"
    }
   ],
   "source": [
    "# 2) Affect of past 5 games form on odds:"
   ]
  },
  {
   "cell_type": "code",
   "execution_count": null,
   "metadata": {},
   "outputs": [],
   "source": []
  }
 ],
 "metadata": {
  "kernelspec": {
   "display_name": "Python 3",
   "language": "python",
   "name": "python3"
  },
  "language_info": {
   "codemirror_mode": {
    "name": "ipython",
    "version": 3
   },
   "file_extension": ".py",
   "mimetype": "text/x-python",
   "name": "python",
   "nbconvert_exporter": "python",
   "pygments_lexer": "ipython3",
   "version": "3.7.3"
  }
 },
 "nbformat": 4,
 "nbformat_minor": 2
}
